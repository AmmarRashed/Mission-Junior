{
 "cells": [
  {
   "cell_type": "code",
   "execution_count": 1,
   "metadata": {
    "collapsed": false
   },
   "outputs": [],
   "source": [
    "\n",
    "from pyspark.sql import SparkSession\n",
    "\n",
    "# @hidden_cell\n",
    "# This function is used to setup the access of Spark to your Object Storage. The definition contains your credentials.\n",
    "# You might want to remove those credentials before you share your notebook.\n",
    "def set_hadoop_config_with_credentials_3a500b3a65a940508dadf71c13437e1d(name):\n",
    "    \"\"\"This function sets the Hadoop configuration so it is possible to\n",
    "    access data from Bluemix Object Storage using Spark\"\"\"\n",
    "\n",
    "    prefix = 'fs.swift.service.' + name\n",
    "    hconf = sc._jsc.hadoopConfiguration()\n",
    "    hconf.set(prefix + '.auth.url', 'https://identity.open.softlayer.com'+'/v3/auth/tokens')\n",
    "    hconf.set(prefix + '.auth.endpoint.prefix', 'endpoints')\n",
    "    hconf.set(prefix + '.tenant', '266ba3381db2401faf8aaa2af05a9146')\n",
    "    hconf.set(prefix + '.username', '88d895f0866c474693d73f58ef63c579')\n",
    "    hconf.set(prefix + '.password', 'XI}9#K8V~!VoafSy')\n",
    "    hconf.setInt(prefix + '.http.port', 8080)\n",
    "    hconf.set(prefix + '.region', 'dallas')\n",
    "    hconf.setBoolean(prefix + '.public', False)\n",
    "\n",
    "# you can choose any name\n",
    "name = 'keystone'\n",
    "set_hadoop_config_with_credentials_3a500b3a65a940508dadf71c13437e1d(name)\n",
    "\n",
    "spark = SparkSession.builder.getOrCreate()\n",
    "\n",
    "df = spark.read\\\n",
    "  .format('org.apache.spark.sql.execution.datasources.csv.CSVFileFormat')\\\n",
    "  .option('header', 'true')\\\n",
    "  .load('swift://VideoGamesSalesanalysisandpredictivemodel.' + name + '/Video_Games_Sales_as_at_22_Dec_2016.csv')\n"
   ]
  },
  {
   "cell_type": "code",
   "execution_count": 2,
   "metadata": {
    "collapsed": false
   },
   "outputs": [
    {
     "name": "stdout",
     "output_type": "stream",
     "text": [
      "+-----------------+--------+---------------+--------+---------+--------+--------+--------+-----------+------------+------------+------------+----------+----------+---------+------+\n",
      "|             Name|Platform|Year_of_Release|   Genre|Publisher|NA_Sales|EU_Sales|JP_Sales|Other_Sales|Global_Sales|Critic_Score|Critic_Count|User_Score|User_Count|Developer|Rating|\n",
      "+-----------------+--------+---------------+--------+---------+--------+--------+--------+-----------+------------+------------+------------+----------+----------+---------+------+\n",
      "|       Wii Sports|     Wii|           2006|  Sports| Nintendo|   41.36|   28.96|    3.77|       8.45|       82.53|          76|          51|         8|       322| Nintendo|     E|\n",
      "|Super Mario Bros.|     NES|           1985|Platform| Nintendo|   29.08|    3.58|    6.81|       0.77|       40.24|        null|        null|      null|      null|     null|  null|\n",
      "+-----------------+--------+---------------+--------+---------+--------+--------+--------+-----------+------------+------------+------------+----------+----------+---------+------+\n",
      "only showing top 2 rows\n",
      "\n"
     ]
    }
   ],
   "source": [
    "df.show(2)"
   ]
  },
  {
   "cell_type": "code",
   "execution_count": 3,
   "metadata": {
    "collapsed": false
   },
   "outputs": [],
   "source": [
    "df.registerTempTable(\"df\")\n",
    "cols = [\"Critic_Score\", \"Critic_Count\", \"User_Score\", \"User_Count\"]\n",
    "queries = [\"SELECT  Name, Platform, Year_of_Release, Genre, Publisher, CAST(NA_Sales AS FLOAT), CAST(EU_Sales AS FLOAT), CAST(JP_Sales AS FLOAT),\\\n",
    "           CAST(Other_Sales AS FLOAT), CAST(Global_Sales AS FLOAT), CAST(\" + col + \" AS FLOAT) AS label FROM df WHERE \"+col for col in cols]\n",
    "# Preparing training & testing dataframes\n",
    "test_critic_score = sqlContext.sql(queries[0]+\" IS NULL\")\n",
    "train_critic_score = sqlContext.sql(queries[0]+\" IS NOT NULL\")\n",
    "\n",
    "test_Critic_Count = sqlContext.sql(queries[1]+\" IS NULL\")\n",
    "train_Critic_Count = sqlContext.sql(queries[1]+\" IS NOT NULL\")\n",
    "\n",
    "test_User_Score = sqlContext.sql(queries[2]+\" IS NULL\")\n",
    "train_User_Score = sqlContext.sql(queries[2]+\" IS NOT NULL\")\n",
    "train_User_Score.registerTempTable(\"us\")\n",
    "train_User_Score = sqlContext.sql(\"SELECT Name, Platform, Year_of_Release, Genre, Publisher, NA_Sales, EU_Sales, JP_Sales, Other_Sales, Global_Sales, COALESCE(label, 0.0) AS label FROM us\")\n",
    "\n",
    "test_User_Count = sqlContext.sql(queries[3]+\" IS NULL\")\n",
    "train_User_Count = sqlContext.sql(queries[3]+\" IS NOT NULL\")"
   ]
  },
  {
   "cell_type": "code",
   "execution_count": 4,
   "metadata": {
    "collapsed": false
   },
   "outputs": [],
   "source": [
    "from pyspark.ml.regression import LinearRegression\n",
    "from pyspark.ml.linalg import Vectors\n",
    "from pyspark.ml.feature import VectorAssembler\n",
    "from pyspark.ml import Pipeline\n",
    "\n",
    "assembler = VectorAssembler(\n",
    "    inputCols=[\"NA_Sales\", \"EU_Sales\", \"JP_Sales\", \"Other_Sales\"],\n",
    "    outputCol=\"features\")\n",
    "lr = LinearRegression(maxIter=10, regParam=0.3, elasticNetParam=0.8)\n",
    "pipeline = Pipeline(stages=[assembler, lr])\n",
    "\n",
    "critic_score_model = pipeline.fit(train_critic_score)\n",
    "Critic_Count_model = pipeline.fit(train_Critic_Count)\n",
    "User_Score_model = pipeline.fit(train_User_Score)\n",
    "User_Count_model = pipeline.fit(train_User_Count)"
   ]
  },
  {
   "cell_type": "code",
   "execution_count": 5,
   "metadata": {
    "collapsed": false
   },
   "outputs": [],
   "source": [
    "cs = critic_score_model.transform(test_critic_score)\n",
    "cc = Critic_Count_model.transform(test_Critic_Count)\n",
    "us = User_Score_model.transform(test_User_Score)\n",
    "uc = User_Count_model.transform(test_User_Count)"
   ]
  },
  {
   "cell_type": "code",
   "execution_count": 6,
   "metadata": {
    "collapsed": false
   },
   "outputs": [],
   "source": [
    "# cols = [\"Critic_Score\", \"Critic_Count\", \"User_Score\", \"User_Count\"]\n",
    "new_queries = [\"SELECT  Name, Platform, Year_of_Release, Genre, Publisher, NA_Sales, EU_Sales, JP_Sales, Other_Sales, Global_Sales, label AS \" + col + \" FROM \"+col for col in cols]\n",
    "train_critic_score.registerTempTable(\"Critic_Score\")\n",
    "tcs = sqlContext.sql(new_queries[0])\n",
    "train_Critic_Count.registerTempTable(\"Critic_Count\")\n",
    "tcc = sqlContext.sql(new_queries[1])\n",
    "train_User_Score.registerTempTable(\"User_Score\")\n",
    "tus = sqlContext.sql(new_queries[2])\n",
    "train_User_Count.registerTempTable(\"User_Count\")\n",
    "tuc = sqlContext.sql(new_queries[3])"
   ]
  },
  {
   "cell_type": "code",
   "execution_count": 7,
   "metadata": {
    "collapsed": false
   },
   "outputs": [],
   "source": [
    "cs_filled = cs.select(cs.Name, cs.Platform, cs.Year_of_Release, cs.Genre, cs.Publisher, cs.NA_Sales, cs.EU_Sales, cs.JP_Sales, cs.Other_Sales, cs.Global_Sales, cs.prediction.alias(\"Critic_Score\"))\\\n",
    "              .unionAll(tcs)\n",
    "            \n",
    "cc_filled = cc.select(cc.Name, cc.Platform, cc.Year_of_Release, cc.Genre, cc.Publisher, cc.NA_Sales, cc.EU_Sales, cc.JP_Sales, cc.Other_Sales, cc.Global_Sales, cc.prediction.alias(\"Critic_Count\"))\\\n",
    "            .unionAll(tcc)\n",
    "    \n",
    "us_filled = us.select(us.Name, us.Platform, us.Year_of_Release, us.Genre, us.Publisher, us.NA_Sales, us.EU_Sales, us.JP_Sales, us.Other_Sales, us.Global_Sales, us.prediction.alias(\"User_Score\"))\\\n",
    "            .unionAll(tus)\n",
    "    \n",
    "uc_filled = uc.select(uc.Name, uc.Platform, uc.Year_of_Release, uc.Genre, uc.Publisher, uc.NA_Sales, uc.EU_Sales, uc.JP_Sales, uc.Other_Sales, uc.Global_Sales, uc.prediction.alias(\"User_Count\"))\\\n",
    "            .unionAll(tuc)"
   ]
  },
  {
   "cell_type": "code",
   "execution_count": 8,
   "metadata": {
    "collapsed": false
   },
   "outputs": [],
   "source": [
    "new_cols = [cs_filled.Name, cs_filled.Platform, cs_filled.Year_of_Release, cs_filled.Genre, cs_filled.Publisher, cs_filled.NA_Sales,\n",
    "            cs_filled.EU_Sales, cs_filled.JP_Sales, cs_filled.Other_Sales, cs_filled.Global_Sales, cs_filled.Critic_Score, cc_filled.Critic_Count]\n",
    "df_filled = cs_filled.join(cc_filled, (cs_filled.Name == cc_filled.Name) & (cs_filled.Platform == cc_filled.Platform) & (cs_filled.Year_of_Release == cc_filled.Year_of_Release)).select(new_cols)\n",
    "new_cols.append(us_filled.User_Score)\n",
    "df_filled = df_filled.join(us_filled, (df_filled.Name == us_filled.Name) & (df_filled.Platform == us_filled.Platform) & (df_filled.Year_of_Release == us_filled.Year_of_Release)).select(new_cols)\n",
    "new_cols.append(uc_filled.User_Count)\n",
    "df_filled = df_filled.join(uc_filled, (df_filled.Name == uc_filled.Name) & (df_filled.Platform == uc_filled.Platform) & (df_filled.Year_of_Release == uc_filled.Year_of_Release)).select(new_cols)"
   ]
  },
  {
   "cell_type": "code",
   "execution_count": 9,
   "metadata": {
    "collapsed": false
   },
   "outputs": [],
   "source": [
    "# df_filled.show()"
   ]
  },
  {
   "cell_type": "code",
   "execution_count": 10,
   "metadata": {
    "collapsed": false
   },
   "outputs": [],
   "source": [
    "from pyspark.sql import functions as F\n",
    "platforms = df_filled.select(\"Platform\").distinct().rdd.flatMap(lambda x: x).map(lambda x: \"c\"+x).collect()\n",
    "dummy_platforms = [F.when(F.col(\"Platform\") == pf[1:], 1).otherwise(0).alias(pf)\n",
    "         for pf in platforms]\n",
    "\n",
    "genres = df_filled.select(\"Genre\").distinct().rdd.flatMap(lambda x: x).map(lambda x: \"c\"+x).collect()\n",
    "dummy_genres = [F.when(F.col(\"Genre\") == ge[1:], 1).otherwise(0).alias(ge)\n",
    "         for ge in genres]\n",
    "publishers = df_filled.select(\"Publisher\").distinct().rdd.flatMap(lambda x: x).map(lambda x: \"c\"+x+str(\"_pub\")).collect()\n",
    "dummy_publishers = [F.when(F.col(\"Publisher\") == pub[1:-4], 1).otherwise(0).alias(pub)\n",
    "         for pub in publishers]\n"
   ]
  },
  {
   "cell_type": "code",
   "execution_count": 11,
   "metadata": {
    "collapsed": false
   },
   "outputs": [],
   "source": [
    "dummifier = dummy_platforms + dummy_genres\n",
    "df_dummified = df_filled.select(\"Name\", df_filled.Year_of_Release.cast(\"integer\"), \"Global_Sales\", *dummifier).na.drop()"
   ]
  },
  {
   "cell_type": "code",
   "execution_count": 12,
   "metadata": {
    "collapsed": false
   },
   "outputs": [],
   "source": [
    "(training, testing) = df_dummified.randomSplit([0.8, 0.2])\n",
    "dummy_assembler = VectorAssembler(\n",
    "    inputCols=df_dummified.columns[2:],\n",
    "    outputCol=\"features\")\n",
    "lr_gs = LinearRegression(maxIter=10, regParam=0.3, elasticNetParam=0.8, labelCol=\"Global_Sales\", featuresCol=\"features\")\n",
    "pipeline_gs = Pipeline(stages=[dummy_assembler, lr_gs])"
   ]
  },
  {
   "cell_type": "code",
   "execution_count": 13,
   "metadata": {
    "collapsed": false
   },
   "outputs": [],
   "source": [
    "# df_dummified.show()"
   ]
  },
  {
   "cell_type": "code",
   "execution_count": 14,
   "metadata": {
    "collapsed": false
   },
   "outputs": [],
   "source": [
    "model_gs = pipeline_gs.fit(training)"
   ]
  },
  {
   "cell_type": "code",
   "execution_count": 15,
   "metadata": {
    "collapsed": false
   },
   "outputs": [
    {
     "name": "stdout",
     "output_type": "stream",
     "text": [
      "+--------------------+------------+-------------------+--------------------+\n",
      "|                Name|Global_Sales|         prediction|                 MSE|\n",
      "+--------------------+------------+-------------------+--------------------+\n",
      "| Haikyu!! Cross T...|        0.04|0.13093090428568666|0.008268429516809835|\n",
      "|.hack//G.U. Vol.2...|        0.16|0.22885244000927907|0.004740658987702413|\n",
      "|.hack//Quarantine...|        0.18|  0.245172705082865|0.004247480555515126|\n",
      "|007: Tomorrow Nev...|        3.21| 2.7176915626605163| 0.24236763503579883|\n",
      "|        1/2 Summer +|        0.01|0.10645052035478854|0.009302702919826222|\n",
      "|   100 Classic Games|        0.04|0.13093090428568666|0.008268429516809835|\n",
      "|1080°: TenEighty ...|        2.03| 1.7547963853814084| 0.07573701375186198|\n",
      "|                1942|         1.0| 0.9143032083137337|0.007343940105319324|\n",
      "|2 Games in 1 Doub...|        0.12| 0.1962119281014149|0.005808258393767884|\n",
      "|2 Games in 1: Son...|        1.83|  1.591593880560011| 0.05683749824899754|\n",
      "|2 Games in 1: Son...|        0.61| 0.5960582217718853|1.943735790396129...|\n",
      "|3DS Classic Colle...|        0.03| 0.1227707763087206|0.008606417061337983|\n",
      "|4 Play Collection...|        0.02|0.11461064833175458|0.008951174862343446|\n",
      "|428: Fuusa Sareta...|        0.04|0.13093090428568666|0.008268429516809835|\n",
      "|  7th Dragon 2020-II|        0.13|0.20437205455843865|0.005531203208510581|\n",
      "|     A New Beginning|        0.06| 0.1472511602396187|0.007612765197185471|\n",
      "|Abunai: Koi no So...|        0.01|0.10645052035478854|0.009302702919826222|\n",
      "|      Ace Attorney 6|        0.27| 0.3186138614353863|0.002363306480518...|\n",
      "|        Action Force|        0.54|   0.53893733049295|1.129312086502014...|\n",
      "|Adventure Time: F...|        0.05|  0.139091033782595|0.007937212167695497|\n",
      "+--------------------+------------+-------------------+--------------------+\n",
      "only showing top 20 rows\n",
      "\n"
     ]
    }
   ],
   "source": [
    "preds = model_gs.transform(testing).select(\"Name\", \"Global_Sales\", \"prediction\")\n",
    "withMSE = preds.withColumn(\"MSE\", (preds.Global_Sales - preds.prediction)**2)\n",
    "withMSE.show()"
   ]
  },
  {
   "cell_type": "code",
   "execution_count": 16,
   "metadata": {
    "collapsed": false
   },
   "outputs": [],
   "source": [
    "MSE = withMSE.select(\"MSE\").groupBy().sum().select(F.col(\"sum(MSE)\").alias(\"mse\")).collect()[0].mse / withMSE.count()"
   ]
  },
  {
   "cell_type": "code",
   "execution_count": 17,
   "metadata": {
    "collapsed": false
   },
   "outputs": [
    {
     "name": "stdout",
     "output_type": "stream",
     "text": [
      "0.0767408779833\n"
     ]
    }
   ],
   "source": [
    "print MSE"
   ]
  },
  {
   "cell_type": "code",
   "execution_count": 18,
   "metadata": {
    "collapsed": true
   },
   "outputs": [],
   "source": [
    "# Clustering\n",
    "from pyspark.ml.clustering import BisectingKMeans\n",
    "# Trains a k-means model.\n",
    "bkm = BisectingKMeans().setK(10).setSeed(1)\n",
    "clust_pipeline = Pipeline(stages=[dummy_assembler, bkm])"
   ]
  },
  {
   "cell_type": "code",
   "execution_count": 19,
   "metadata": {
    "collapsed": false
   },
   "outputs": [],
   "source": [
    "cluster_model = clust_pipeline.fit(df_dummified)"
   ]
  },
  {
   "cell_type": "code",
   "execution_count": 21,
   "metadata": {
    "collapsed": false
   },
   "outputs": [
    {
     "name": "stdout",
     "output_type": "stream",
     "text": [
      "Within Set Sum of Squared Errors = 27116.5368132\n",
      "Cluster Centers: \n",
      "[  2.85362595e-01   4.40399295e-04   9.38050499e-02   9.18966530e-02\n",
      "   6.60598943e-03   1.17586612e-01   6.31238990e-03   1.90839695e-03\n",
      "   0.00000000e+00   2.53963594e-02   0.00000000e+00   1.46799765e-04\n",
      "   6.89958896e-03   2.06987669e-02   5.43159131e-03   4.40399295e-04\n",
      "   3.36171462e-02   2.08455666e-02   9.80622431e-02   6.89958896e-03\n",
      "   1.57075749e-02   9.20434527e-02   6.57662948e-02   2.93599530e-04\n",
      "   1.03640634e-01   5.46095126e-02   2.51027598e-02   8.36758661e-02\n",
      "   0.00000000e+00   2.93599530e-04   1.76159718e-03   2.01115678e-02\n",
      "   1.23605402e-01   2.43394011e-01   1.29036994e-01   0.00000000e+00\n",
      "   1.41368174e-01   0.00000000e+00   8.66118614e-02   4.38931298e-02\n",
      "   8.98414563e-02   0.00000000e+00   7.47210804e-02   6.75278920e-02]\n",
      "[  2.45186656e-01   0.00000000e+00   3.01826847e-02   5.90415674e-02\n",
      "   2.11808313e-03   4.20969023e-02   1.05904157e-03   1.05904157e-03\n",
      "   0.00000000e+00   3.36245698e-02   2.64760392e-04   0.00000000e+00\n",
      "   7.14853058e-03   1.53561027e-02   5.55996823e-03   7.94281176e-04\n",
      "   5.82472862e-03   1.72094255e-02   7.67805136e-02   1.32380196e-03\n",
      "   8.20757215e-03   4.65978290e-02   4.52740270e-02   1.05904157e-03\n",
      "   7.36033889e-02   1.42970612e-02   2.88588827e-02   1.72094255e-02\n",
      "   4.56976436e-01   0.00000000e+00   0.00000000e+00   8.47233254e-03\n",
      "   6.22186921e-02   3.81254964e-02   1.72094255e-02   3.14005825e-01\n",
      "   1.11199365e-02   3.75694996e-01   2.17103521e-02   5.87768070e-02\n",
      "   9.53137411e-03   0.00000000e+00   2.06513106e-02   7.09557850e-02]\n",
      "[  2.82354001e-01   0.00000000e+00   5.91204037e-02   1.20043259e-01\n",
      "   2.16294160e-03   4.72242249e-02   1.08147080e-03   7.20980534e-04\n",
      "   0.00000000e+00   6.52487383e-02   0.00000000e+00   0.00000000e+00\n",
      "   2.27108868e-02   3.96539293e-03   1.08147080e-03   0.00000000e+00\n",
      "   1.18961788e-02   4.50612833e-02   7.67844268e-02   1.91059841e-02\n",
      "   2.95602019e-02   1.01658255e-01   5.58759913e-02   0.00000000e+00\n",
      "   7.82263879e-02   3.38860851e-02   5.40735400e-02   5.33525595e-02\n",
      "   1.16077866e-01   0.00000000e+00   0.00000000e+00   1.08147080e-03\n",
      "   0.00000000e+00   0.00000000e+00   0.00000000e+00   0.00000000e+00\n",
      "   0.00000000e+00   0.00000000e+00   0.00000000e+00   0.00000000e+00\n",
      "   0.00000000e+00   1.00000000e+00   0.00000000e+00   0.00000000e+00]\n",
      "[ 0.31767876  0.          0.          0.          0.          0.          0.\n",
      "  0.          1.          0.          0.          0.          0.          0.\n",
      "  0.          0.          0.          0.          0.          0.          0.\n",
      "  0.          0.          0.          0.          0.          0.          0.\n",
      "  0.          0.          0.          0.          0.10103627  0.17668394\n",
      "  0.1         0.08963731  0.07202073  0.10621762  0.04507772  0.00880829\n",
      "  0.06528497  0.15803109  0.03626943  0.04093264]\n",
      "[  2.24903919e+00   0.00000000e+00   3.66624526e-02   1.18836915e-01\n",
      "   3.28697851e-02   8.09102402e-02   2.52844501e-03   7.58533502e-03\n",
      "   1.80783818e-01   2.27560051e-02   0.00000000e+00   0.00000000e+00\n",
      "   5.05689001e-03   2.40202276e-02   2.65486726e-02   0.00000000e+00\n",
      "   2.65486726e-02   4.67762326e-02   1.89633375e-02   1.01137800e-02\n",
      "   2.52844501e-02   1.26422250e-01   3.66624526e-02   0.00000000e+00\n",
      "   6.44753477e-02   2.14917826e-02   1.26422250e-03   2.27560051e-02\n",
      "   5.94184576e-02   0.00000000e+00   0.00000000e+00   1.26422250e-03\n",
      "   2.14917826e-02   1.71934260e-01   7.83817952e-02   9.73451327e-02\n",
      "   1.16308470e-01   8.21744627e-02   9.10240202e-02   2.90771176e-02\n",
      "   6.32111252e-02   1.87104930e-01   1.39064475e-02   4.80404551e-02]\n",
      "[  4.73107011e+00   0.00000000e+00   3.69003690e-02   1.25461255e-01\n",
      "   3.32103321e-02   1.07011070e-01   0.00000000e+00   7.38007380e-03\n",
      "   1.73431734e-01   2.21402214e-02   0.00000000e+00   0.00000000e+00\n",
      "   2.21402214e-02   2.21402214e-02   3.32103321e-02   0.00000000e+00\n",
      "   2.58302583e-02   6.27306273e-02   2.21402214e-02   7.38007380e-03\n",
      "   2.21402214e-02   1.14391144e-01   2.21402214e-02   0.00000000e+00\n",
      "   6.64206642e-02   1.84501845e-02   0.00000000e+00   3.69003690e-03\n",
      "   5.16605166e-02   0.00000000e+00   0.00000000e+00   0.00000000e+00\n",
      "   1.10701107e-02   1.25461255e-01   5.90405904e-02   1.14391144e-01\n",
      "   1.32841328e-01   8.11808118e-02   1.14391144e-01   1.84501845e-02\n",
      "   3.69003690e-02   2.54612546e-01   1.84501845e-02   3.32103321e-02]\n",
      "[ 8.82137932  0.          0.01724138  0.10344828  0.01724138  0.10344828\n",
      "  0.          0.          0.03448276  0.06896552  0.          0.          0.\n",
      "  0.05172414  0.01724138  0.          0.05172414  0.0862069   0.01724138\n",
      "  0.01724138  0.01724138  0.15517241  0.01724138  0.          0.13793103\n",
      "  0.          0.          0.01724138  0.06896552  0.          0.          0.\n",
      "  0.01724138  0.05172414  0.10344828  0.13793103  0.24137931  0.12068966\n",
      "  0.15517241  0.01724138  0.03448276  0.0862069   0.          0.03448276]\n",
      "[ 14.13448281   0.           0.           0.10344828   0.03448276   0.           0.\n",
      "   0.           0.13793103   0.10344828   0.           0.           0.           0.\n",
      "   0.06896552   0.           0.03448276   0.06896552   0.           0.           0.\n",
      "   0.20689655   0.03448276   0.           0.03448276   0.           0.           0.\n",
      "   0.17241379   0.           0.           0.           0.           0.\n",
      "   0.10344828   0.20689655   0.31034483   0.           0.10344828\n",
      "   0.03448276   0.03448276   0.17241379   0.           0.03448276]\n",
      "[ 26.60000018   0.           0.           0.05263158   0.10526316   0.           0.\n",
      "   0.           0.05263158   0.           0.           0.           0.\n",
      "   0.05263158   0.15789474   0.           0.           0.           0.           0.\n",
      "   0.           0.05263158   0.           0.           0.31578947   0.           0.\n",
      "   0.           0.21052632   0.           0.           0.           0.\n",
      "   0.15789474   0.10526316   0.10526316   0.05263158   0.15789474\n",
      "   0.21052632   0.05263158   0.           0.10526316   0.           0.05263158]\n",
      "[ 82.52999878   0.           0.           0.           0.           0.           0.\n",
      "   0.           0.           0.           0.           0.           0.           0.\n",
      "   0.           0.           0.           0.           0.           0.           0.\n",
      "   0.           0.           0.           1.           0.           0.           0.\n",
      "   0.           0.           0.           0.           0.           1.           0.\n",
      "   0.           0.           0.           0.           0.           0.           0.\n",
      "   0.           0.        ]\n"
     ]
    }
   ],
   "source": [
    "# Evaluate clustering by computing Within Set Sum of Squared Errors.\n",
    "bkm_model = cluster_model.stages[1]\n",
    "new_df = dummy_assembler.transform(df_dummified)\n",
    "\n",
    "cost = bkm_model.computeCost(new_df)\n",
    "print(\"Within Set Sum of Squared Errors = \" + str(cost))\n",
    "\n",
    "# Shows the result.\n",
    "print(\"Cluster Centers: \")\n",
    "centers = bkm_model.clusterCenters()\n",
    "for center in centers:\n",
    "    print(center)"
   ]
  },
  {
   "cell_type": "code",
   "execution_count": 22,
   "metadata": {
    "collapsed": true
   },
   "outputs": [],
   "source": [
    "from pyspark.ml.clustering import KMeans\n",
    "kmeans = KMeans().setK(2).setSeed(1)\n",
    "kmeans_pipeline = Pipeline(stages=[dummy_assembler, kmeans])\n",
    "model = kmeans_pipeline.fit(df_dummified)"
   ]
  },
  {
   "cell_type": "code",
   "execution_count": 23,
   "metadata": {
    "collapsed": false
   },
   "outputs": [
    {
     "name": "stdout",
     "output_type": "stream",
     "text": [
      "Within Set Sum of Squared Errors = 27116.5368132\n",
      "Cluster Centers: \n",
      "[  2.85362595e-01   4.40399295e-04   9.38050499e-02   9.18966530e-02\n",
      "   6.60598943e-03   1.17586612e-01   6.31238990e-03   1.90839695e-03\n",
      "   0.00000000e+00   2.53963594e-02   0.00000000e+00   1.46799765e-04\n",
      "   6.89958896e-03   2.06987669e-02   5.43159131e-03   4.40399295e-04\n",
      "   3.36171462e-02   2.08455666e-02   9.80622431e-02   6.89958896e-03\n",
      "   1.57075749e-02   9.20434527e-02   6.57662948e-02   2.93599530e-04\n",
      "   1.03640634e-01   5.46095126e-02   2.51027598e-02   8.36758661e-02\n",
      "   0.00000000e+00   2.93599530e-04   1.76159718e-03   2.01115678e-02\n",
      "   1.23605402e-01   2.43394011e-01   1.29036994e-01   0.00000000e+00\n",
      "   1.41368174e-01   0.00000000e+00   8.66118614e-02   4.38931298e-02\n",
      "   8.98414563e-02   0.00000000e+00   7.47210804e-02   6.75278920e-02]\n",
      "[  2.45186656e-01   0.00000000e+00   3.01826847e-02   5.90415674e-02\n",
      "   2.11808313e-03   4.20969023e-02   1.05904157e-03   1.05904157e-03\n",
      "   0.00000000e+00   3.36245698e-02   2.64760392e-04   0.00000000e+00\n",
      "   7.14853058e-03   1.53561027e-02   5.55996823e-03   7.94281176e-04\n",
      "   5.82472862e-03   1.72094255e-02   7.67805136e-02   1.32380196e-03\n",
      "   8.20757215e-03   4.65978290e-02   4.52740270e-02   1.05904157e-03\n",
      "   7.36033889e-02   1.42970612e-02   2.88588827e-02   1.72094255e-02\n",
      "   4.56976436e-01   0.00000000e+00   0.00000000e+00   8.47233254e-03\n",
      "   6.22186921e-02   3.81254964e-02   1.72094255e-02   3.14005825e-01\n",
      "   1.11199365e-02   3.75694996e-01   2.17103521e-02   5.87768070e-02\n",
      "   9.53137411e-03   0.00000000e+00   2.06513106e-02   7.09557850e-02]\n",
      "[  2.82354001e-01   0.00000000e+00   5.91204037e-02   1.20043259e-01\n",
      "   2.16294160e-03   4.72242249e-02   1.08147080e-03   7.20980534e-04\n",
      "   0.00000000e+00   6.52487383e-02   0.00000000e+00   0.00000000e+00\n",
      "   2.27108868e-02   3.96539293e-03   1.08147080e-03   0.00000000e+00\n",
      "   1.18961788e-02   4.50612833e-02   7.67844268e-02   1.91059841e-02\n",
      "   2.95602019e-02   1.01658255e-01   5.58759913e-02   0.00000000e+00\n",
      "   7.82263879e-02   3.38860851e-02   5.40735400e-02   5.33525595e-02\n",
      "   1.16077866e-01   0.00000000e+00   0.00000000e+00   1.08147080e-03\n",
      "   0.00000000e+00   0.00000000e+00   0.00000000e+00   0.00000000e+00\n",
      "   0.00000000e+00   0.00000000e+00   0.00000000e+00   0.00000000e+00\n",
      "   0.00000000e+00   1.00000000e+00   0.00000000e+00   0.00000000e+00]\n",
      "[ 0.31767876  0.          0.          0.          0.          0.          0.\n",
      "  0.          1.          0.          0.          0.          0.          0.\n",
      "  0.          0.          0.          0.          0.          0.          0.\n",
      "  0.          0.          0.          0.          0.          0.          0.\n",
      "  0.          0.          0.          0.          0.10103627  0.17668394\n",
      "  0.1         0.08963731  0.07202073  0.10621762  0.04507772  0.00880829\n",
      "  0.06528497  0.15803109  0.03626943  0.04093264]\n",
      "[  2.24903919e+00   0.00000000e+00   3.66624526e-02   1.18836915e-01\n",
      "   3.28697851e-02   8.09102402e-02   2.52844501e-03   7.58533502e-03\n",
      "   1.80783818e-01   2.27560051e-02   0.00000000e+00   0.00000000e+00\n",
      "   5.05689001e-03   2.40202276e-02   2.65486726e-02   0.00000000e+00\n",
      "   2.65486726e-02   4.67762326e-02   1.89633375e-02   1.01137800e-02\n",
      "   2.52844501e-02   1.26422250e-01   3.66624526e-02   0.00000000e+00\n",
      "   6.44753477e-02   2.14917826e-02   1.26422250e-03   2.27560051e-02\n",
      "   5.94184576e-02   0.00000000e+00   0.00000000e+00   1.26422250e-03\n",
      "   2.14917826e-02   1.71934260e-01   7.83817952e-02   9.73451327e-02\n",
      "   1.16308470e-01   8.21744627e-02   9.10240202e-02   2.90771176e-02\n",
      "   6.32111252e-02   1.87104930e-01   1.39064475e-02   4.80404551e-02]\n",
      "[  4.73107011e+00   0.00000000e+00   3.69003690e-02   1.25461255e-01\n",
      "   3.32103321e-02   1.07011070e-01   0.00000000e+00   7.38007380e-03\n",
      "   1.73431734e-01   2.21402214e-02   0.00000000e+00   0.00000000e+00\n",
      "   2.21402214e-02   2.21402214e-02   3.32103321e-02   0.00000000e+00\n",
      "   2.58302583e-02   6.27306273e-02   2.21402214e-02   7.38007380e-03\n",
      "   2.21402214e-02   1.14391144e-01   2.21402214e-02   0.00000000e+00\n",
      "   6.64206642e-02   1.84501845e-02   0.00000000e+00   3.69003690e-03\n",
      "   5.16605166e-02   0.00000000e+00   0.00000000e+00   0.00000000e+00\n",
      "   1.10701107e-02   1.25461255e-01   5.90405904e-02   1.14391144e-01\n",
      "   1.32841328e-01   8.11808118e-02   1.14391144e-01   1.84501845e-02\n",
      "   3.69003690e-02   2.54612546e-01   1.84501845e-02   3.32103321e-02]\n",
      "[ 8.82137932  0.          0.01724138  0.10344828  0.01724138  0.10344828\n",
      "  0.          0.          0.03448276  0.06896552  0.          0.          0.\n",
      "  0.05172414  0.01724138  0.          0.05172414  0.0862069   0.01724138\n",
      "  0.01724138  0.01724138  0.15517241  0.01724138  0.          0.13793103\n",
      "  0.          0.          0.01724138  0.06896552  0.          0.          0.\n",
      "  0.01724138  0.05172414  0.10344828  0.13793103  0.24137931  0.12068966\n",
      "  0.15517241  0.01724138  0.03448276  0.0862069   0.          0.03448276]\n",
      "[ 14.13448281   0.           0.           0.10344828   0.03448276   0.           0.\n",
      "   0.           0.13793103   0.10344828   0.           0.           0.           0.\n",
      "   0.06896552   0.           0.03448276   0.06896552   0.           0.           0.\n",
      "   0.20689655   0.03448276   0.           0.03448276   0.           0.           0.\n",
      "   0.17241379   0.           0.           0.           0.           0.\n",
      "   0.10344828   0.20689655   0.31034483   0.           0.10344828\n",
      "   0.03448276   0.03448276   0.17241379   0.           0.03448276]\n",
      "[ 26.60000018   0.           0.           0.05263158   0.10526316   0.           0.\n",
      "   0.           0.05263158   0.           0.           0.           0.\n",
      "   0.05263158   0.15789474   0.           0.           0.           0.           0.\n",
      "   0.           0.05263158   0.           0.           0.31578947   0.           0.\n",
      "   0.           0.21052632   0.           0.           0.           0.\n",
      "   0.15789474   0.10526316   0.10526316   0.05263158   0.15789474\n",
      "   0.21052632   0.05263158   0.           0.10526316   0.           0.05263158]\n",
      "[ 82.52999878   0.           0.           0.           0.           0.           0.\n",
      "   0.           0.           0.           0.           0.           0.           0.\n",
      "   0.           0.           0.           0.           0.           0.           0.\n",
      "   0.           0.           0.           1.           0.           0.           0.\n",
      "   0.           0.           0.           0.           0.           1.           0.\n",
      "   0.           0.           0.           0.           0.           0.           0.\n",
      "   0.           0.        ]\n"
     ]
    }
   ],
   "source": [
    "# Evaluate clustering by computing Within Set Sum of Squared Errors.\n",
    "k_model = cluster_model.stages[1]\n",
    "new_df = dummy_assembler.transform(df_dummified)\n",
    "\n",
    "cost = k_model.computeCost(new_df)\n",
    "print(\"Within Set Sum of Squared Errors = \" + str(cost))\n",
    "\n",
    "# Shows the result.\n",
    "print(\"Cluster Centers: \")\n",
    "centers = k_model.clusterCenters()\n",
    "for center in centers:\n",
    "    print(center)"
   ]
  },
  {
   "cell_type": "code",
   "execution_count": 24,
   "metadata": {
    "collapsed": false
   },
   "outputs": [
    {
     "name": "stdout",
     "output_type": "stream",
     "text": [
      "Within Set Sum of Squared Errors = 27116.5368132\n",
      "Cluster Centers: \n",
      "[  2.85362595e-01   4.40399295e-04   9.38050499e-02   9.18966530e-02\n",
      "   6.60598943e-03   1.17586612e-01   6.31238990e-03   1.90839695e-03\n",
      "   0.00000000e+00   2.53963594e-02   0.00000000e+00   1.46799765e-04\n",
      "   6.89958896e-03   2.06987669e-02   5.43159131e-03   4.40399295e-04\n",
      "   3.36171462e-02   2.08455666e-02   9.80622431e-02   6.89958896e-03\n",
      "   1.57075749e-02   9.20434527e-02   6.57662948e-02   2.93599530e-04\n",
      "   1.03640634e-01   5.46095126e-02   2.51027598e-02   8.36758661e-02\n",
      "   0.00000000e+00   2.93599530e-04   1.76159718e-03   2.01115678e-02\n",
      "   1.23605402e-01   2.43394011e-01   1.29036994e-01   0.00000000e+00\n",
      "   1.41368174e-01   0.00000000e+00   8.66118614e-02   4.38931298e-02\n",
      "   8.98414563e-02   0.00000000e+00   7.47210804e-02   6.75278920e-02]\n",
      "[  2.45186656e-01   0.00000000e+00   3.01826847e-02   5.90415674e-02\n",
      "   2.11808313e-03   4.20969023e-02   1.05904157e-03   1.05904157e-03\n",
      "   0.00000000e+00   3.36245698e-02   2.64760392e-04   0.00000000e+00\n",
      "   7.14853058e-03   1.53561027e-02   5.55996823e-03   7.94281176e-04\n",
      "   5.82472862e-03   1.72094255e-02   7.67805136e-02   1.32380196e-03\n",
      "   8.20757215e-03   4.65978290e-02   4.52740270e-02   1.05904157e-03\n",
      "   7.36033889e-02   1.42970612e-02   2.88588827e-02   1.72094255e-02\n",
      "   4.56976436e-01   0.00000000e+00   0.00000000e+00   8.47233254e-03\n",
      "   6.22186921e-02   3.81254964e-02   1.72094255e-02   3.14005825e-01\n",
      "   1.11199365e-02   3.75694996e-01   2.17103521e-02   5.87768070e-02\n",
      "   9.53137411e-03   0.00000000e+00   2.06513106e-02   7.09557850e-02]\n",
      "[  2.82354001e-01   0.00000000e+00   5.91204037e-02   1.20043259e-01\n",
      "   2.16294160e-03   4.72242249e-02   1.08147080e-03   7.20980534e-04\n",
      "   0.00000000e+00   6.52487383e-02   0.00000000e+00   0.00000000e+00\n",
      "   2.27108868e-02   3.96539293e-03   1.08147080e-03   0.00000000e+00\n",
      "   1.18961788e-02   4.50612833e-02   7.67844268e-02   1.91059841e-02\n",
      "   2.95602019e-02   1.01658255e-01   5.58759913e-02   0.00000000e+00\n",
      "   7.82263879e-02   3.38860851e-02   5.40735400e-02   5.33525595e-02\n",
      "   1.16077866e-01   0.00000000e+00   0.00000000e+00   1.08147080e-03\n",
      "   0.00000000e+00   0.00000000e+00   0.00000000e+00   0.00000000e+00\n",
      "   0.00000000e+00   0.00000000e+00   0.00000000e+00   0.00000000e+00\n",
      "   0.00000000e+00   1.00000000e+00   0.00000000e+00   0.00000000e+00]\n",
      "[ 0.31767876  0.          0.          0.          0.          0.          0.\n",
      "  0.          1.          0.          0.          0.          0.          0.\n",
      "  0.          0.          0.          0.          0.          0.          0.\n",
      "  0.          0.          0.          0.          0.          0.          0.\n",
      "  0.          0.          0.          0.          0.10103627  0.17668394\n",
      "  0.1         0.08963731  0.07202073  0.10621762  0.04507772  0.00880829\n",
      "  0.06528497  0.15803109  0.03626943  0.04093264]\n",
      "[  2.24903919e+00   0.00000000e+00   3.66624526e-02   1.18836915e-01\n",
      "   3.28697851e-02   8.09102402e-02   2.52844501e-03   7.58533502e-03\n",
      "   1.80783818e-01   2.27560051e-02   0.00000000e+00   0.00000000e+00\n",
      "   5.05689001e-03   2.40202276e-02   2.65486726e-02   0.00000000e+00\n",
      "   2.65486726e-02   4.67762326e-02   1.89633375e-02   1.01137800e-02\n",
      "   2.52844501e-02   1.26422250e-01   3.66624526e-02   0.00000000e+00\n",
      "   6.44753477e-02   2.14917826e-02   1.26422250e-03   2.27560051e-02\n",
      "   5.94184576e-02   0.00000000e+00   0.00000000e+00   1.26422250e-03\n",
      "   2.14917826e-02   1.71934260e-01   7.83817952e-02   9.73451327e-02\n",
      "   1.16308470e-01   8.21744627e-02   9.10240202e-02   2.90771176e-02\n",
      "   6.32111252e-02   1.87104930e-01   1.39064475e-02   4.80404551e-02]\n",
      "[  4.73107011e+00   0.00000000e+00   3.69003690e-02   1.25461255e-01\n",
      "   3.32103321e-02   1.07011070e-01   0.00000000e+00   7.38007380e-03\n",
      "   1.73431734e-01   2.21402214e-02   0.00000000e+00   0.00000000e+00\n",
      "   2.21402214e-02   2.21402214e-02   3.32103321e-02   0.00000000e+00\n",
      "   2.58302583e-02   6.27306273e-02   2.21402214e-02   7.38007380e-03\n",
      "   2.21402214e-02   1.14391144e-01   2.21402214e-02   0.00000000e+00\n",
      "   6.64206642e-02   1.84501845e-02   0.00000000e+00   3.69003690e-03\n",
      "   5.16605166e-02   0.00000000e+00   0.00000000e+00   0.00000000e+00\n",
      "   1.10701107e-02   1.25461255e-01   5.90405904e-02   1.14391144e-01\n",
      "   1.32841328e-01   8.11808118e-02   1.14391144e-01   1.84501845e-02\n",
      "   3.69003690e-02   2.54612546e-01   1.84501845e-02   3.32103321e-02]\n",
      "[ 8.82137932  0.          0.01724138  0.10344828  0.01724138  0.10344828\n",
      "  0.          0.          0.03448276  0.06896552  0.          0.          0.\n",
      "  0.05172414  0.01724138  0.          0.05172414  0.0862069   0.01724138\n",
      "  0.01724138  0.01724138  0.15517241  0.01724138  0.          0.13793103\n",
      "  0.          0.          0.01724138  0.06896552  0.          0.          0.\n",
      "  0.01724138  0.05172414  0.10344828  0.13793103  0.24137931  0.12068966\n",
      "  0.15517241  0.01724138  0.03448276  0.0862069   0.          0.03448276]\n",
      "[ 14.13448281   0.           0.           0.10344828   0.03448276   0.           0.\n",
      "   0.           0.13793103   0.10344828   0.           0.           0.           0.\n",
      "   0.06896552   0.           0.03448276   0.06896552   0.           0.           0.\n",
      "   0.20689655   0.03448276   0.           0.03448276   0.           0.           0.\n",
      "   0.17241379   0.           0.           0.           0.           0.\n",
      "   0.10344828   0.20689655   0.31034483   0.           0.10344828\n",
      "   0.03448276   0.03448276   0.17241379   0.           0.03448276]\n",
      "[ 26.60000018   0.           0.           0.05263158   0.10526316   0.           0.\n",
      "   0.           0.05263158   0.           0.           0.           0.\n",
      "   0.05263158   0.15789474   0.           0.           0.           0.           0.\n",
      "   0.           0.05263158   0.           0.           0.31578947   0.           0.\n",
      "   0.           0.21052632   0.           0.           0.           0.\n",
      "   0.15789474   0.10526316   0.10526316   0.05263158   0.15789474\n",
      "   0.21052632   0.05263158   0.           0.10526316   0.           0.05263158]\n",
      "[ 82.52999878   0.           0.           0.           0.           0.           0.\n",
      "   0.           0.           0.           0.           0.           0.           0.\n",
      "   0.           0.           0.           0.           0.           0.           0.\n",
      "   0.           0.           0.           1.           0.           0.           0.\n",
      "   0.           0.           0.           0.           0.           1.           0.\n",
      "   0.           0.           0.           0.           0.           0.           0.\n",
      "   0.           0.        ]\n"
     ]
    }
   ],
   "source": [
    "kmeans = KMeans().setK(10).setSeed(1)\n",
    "kmeans_pipeline = Pipeline(stages=[dummy_assembler, kmeans])\n",
    "model = kmeans_pipeline.fit(df_dummified)\n",
    "\n",
    "# Evaluate clustering by computing Within Set Sum of Squared Errors.\n",
    "k_model = cluster_model.stages[1]\n",
    "new_df = dummy_assembler.transform(df_dummified)\n",
    "\n",
    "cost = k_model.computeCost(new_df)\n",
    "print(\"Within Set Sum of Squared Errors = \" + str(cost))\n",
    "\n",
    "# Shows the result.\n",
    "print(\"Cluster Centers: \")\n",
    "centers = k_model.clusterCenters()\n",
    "for center in centers:\n",
    "    print(center)"
   ]
  },
  {
   "cell_type": "code",
   "execution_count": 25,
   "metadata": {
    "collapsed": true
   },
   "outputs": [],
   "source": [
    "from pyspark.ml.clustering import LDA, LDAModel\n",
    "lda = LDA(k=5, maxIter=10)\n",
    "lda_pipeline = Pipeline(stages=[dummy_assembler, lda])\n",
    "model = lda_pipeline.fit(df_dummified)"
   ]
  },
  {
   "cell_type": "code",
   "execution_count": 26,
   "metadata": {
    "collapsed": false
   },
   "outputs": [],
   "source": [
    "lda_model = model.stages[1]\n",
    "games_indices = lda_model.describeTopics(5)"
   ]
  },
  {
   "cell_type": "code",
   "execution_count": 27,
   "metadata": {
    "collapsed": false
   },
   "outputs": [
    {
     "name": "stdout",
     "output_type": "stream",
     "text": [
      "+-----+-------------------+--------------------+\n",
      "|topic|        termIndices|         termWeights|\n",
      "+-----+-------------------+--------------------+\n",
      "|    0|[34, 36, 0, 21, 27]|[0.18539371401488...|\n",
      "|    1| [0, 37, 32, 28, 8]|[0.35003419232833...|\n",
      "|    2| [0, 22, 38, 43, 2]|[0.21794375839907...|\n",
      "|    3|  [33, 0, 8, 5, 41]|[0.19239178826433...|\n",
      "|    4| [41, 3, 0, 18, 35]|[0.26867594974359...|\n",
      "+-----+-------------------+--------------------+\n",
      "\n"
     ]
    }
   ],
   "source": [
    "games_indices.show()"
   ]
  },
  {
   "cell_type": "code",
   "execution_count": 28,
   "metadata": {
    "collapsed": false
   },
   "outputs": [
    {
     "name": "stdout",
     "output_type": "stream",
     "text": [
      "+--------------------+--------------------+\n",
      "|                Name|   topicDistribution|\n",
      "+--------------------+--------------------+\n",
      "|   Super Mario Bros.|[0.00455799043403...|\n",
      "|Pokemon Red/Pokem...|[0.00574606639449...|\n",
      "|              Tetris|[0.00592659574989...|\n",
      "|           Duck Hunt|[0.00641472615818...|\n",
      "|          Nintendogs|[0.00712262544412...|\n",
      "|Pokemon Gold/Poke...|[0.00757279784693...|\n",
      "|   Super Mario World|[0.00859513676214...|\n",
      "|Pokemon Diamond/P...|[0.00930063720866...|\n",
      "|    Super Mario Land|[0.00932543946233...|\n",
      "| Super Mario Bros. 3|[0.00972176118638...|\n",
      "|Pokemon Ruby/Poke...|[0.01049553162710...|\n",
      "|Pokemon Black/Pok...|[0.01090190843330...|\n",
      "|Pokémon Yellow: S...|[0.01122444682682...|\n",
      "|Call of Duty: Bla...|[0.01164670616502...|\n",
      "| Pokemon X/Pokemon Y|[0.01123554837791...|\n",
      "|      Super Mario 64|[0.01324844020005...|\n",
      "|Pokemon HeartGold...|[0.01334532395045...|\n",
      "|Pokemon Omega Rub...|[0.01348183477211...|\n",
      "|Super Mario Land ...|[0.01389685933960...|\n",
      "|Super Mario All-S...|[0.01498274695022...|\n",
      "+--------------------+--------------------+\n",
      "only showing top 20 rows\n",
      "\n"
     ]
    }
   ],
   "source": [
    "# Shows the result\n",
    "transformed = model.transform(df_dummified)\n",
    "transformed.select(\"Name\",\"topicDistribution\").show()"
   ]
  },
  {
   "cell_type": "code",
   "execution_count": 29,
   "metadata": {
    "collapsed": false
   },
   "outputs": [
    {
     "name": "stdout",
     "output_type": "stream",
     "text": [
      "Group0\n",
      "All-Star Baseball 2003\n",
      "Sherlock Holmes: The Mystery of the Mummy\n",
      "The Legend of Zelda: Oracle of Ages\n",
      "July\n",
      "Calcio Bit\n",
      "\n",
      "Group1\n",
      "The Legend of Zelda: Oracle of Ages\n",
      "RalliSport Challenge 2\n",
      "Poupee Girl DS 2: Elegant Mint / Sweet Pink Style\n",
      "Angelique: Maren no Rokukishi\n",
      "Yu-Gi-Oh! GX: Tag Force 2\n",
      "\n",
      "Group2\n",
      "The Legend of Zelda: Oracle of Ages\n",
      "Raw Danger! (JP sales)\n",
      "The Last Airbender\n",
      "Dungeons 2\n",
      "Joust\n",
      "\n",
      "Group3\n",
      "Call of Duty Black Ops: Declassified\n",
      "The Legend of Zelda: Oracle of Ages\n",
      "Yu-Gi-Oh! GX: Tag Force 2\n",
      "Paws & Claws: Dogs & Cats Best Friends\n",
      "Men of War: Assault Squad\n",
      "\n",
      "Group4\n",
      "Men of War: Assault Squad\n",
      "J-League Soccer: Prime Goal\n",
      "The Legend of Zelda: Oracle of Ages\n",
      "Crayon Shin-Chan Shokkugan! Densetsu o Yobu Omake Daiketsusen!!\n",
      "RIFT\n",
      "\n"
     ]
    }
   ],
   "source": [
    "games_names = df_dummified.select(\"Name\").distinct().rdd.flatMap(lambda x: x).collect()\n",
    "games = games_indices.select(\"termIndices\").rdd\\\n",
    "                     .map(lambda row:[games_names[row.termIndices[i]] for i in range(5)]).collect()\n",
    "for group in range(len(games)):\n",
    "    print \"Group\" + str(group)\n",
    "    for game in games[group]:\n",
    "        print game\n",
    "    print"
   ]
  }
 ],
 "metadata": {
  "kernelspec": {
   "display_name": "Python 2 with Spark 2.1",
   "language": "python",
   "name": "python2-spark21"
  },
  "language_info": {
   "codemirror_mode": {
    "name": "ipython",
    "version": 2
   },
   "file_extension": ".py",
   "mimetype": "text/x-python",
   "name": "python",
   "nbconvert_exporter": "python",
   "pygments_lexer": "ipython2",
   "version": "2.7.11"
  }
 },
 "nbformat": 4,
 "nbformat_minor": 0
}