{
 "cells": [
  {
   "cell_type": "code",
   "execution_count": 29,
   "metadata": {
    "collapsed": false
   },
   "outputs": [
    {
     "data": {
      "text/html": [
       "<h1 align =\"center\">Computer Systems</h1>\n",
       "<h2 align=\"center\"> Predicting Game Trends and Sales</h2>\n",
       "<h3 align=\"center\"> Ammar Rashed <br /><br />   Abdul Jaleel Yusif<br /> <br /> Muhammed Emre Sevuk <br /> <br /> Ersin Onur Erdogan </h3>\n",
       "<p>With this work, we analyze the game datas from previous years and based on them predicting the good game opportunities in the coming years.</p>\n",
       "<p>To be able to do that, we found most succesful platforms, most succesful publishers and most succesful game genres. </p>"
      ],
      "text/plain": [
       "<IPython.core.display.HTML object>"
      ]
     },
     "metadata": {},
     "output_type": "display_data"
    }
   ],
   "source": [
    "%%HTML\n",
    "<h1 align =\"center\">Computer Systems</h1>\n",
    "<h2 align=\"center\"> Predicting Game Trends and Sales</h2>\n",
    "<h3 align=\"center\"> Ammar Rashed <br /><br />   Abdul Jaleel Yusif<br /> <br /> Muhammed Emre Sevuk <br /> <br /> Ersin Onur Erdogan </h3>\n",
    "<p>With this work, we analyze the game datas from previous years and based on them predicting the good game opportunities in the coming years.</p>\n",
    "<p>To be able to do that, we found most succesful platforms, most succesful publishers and most succesful game genres. </p>"
   ]
  },
  {
   "cell_type": "code",
   "execution_count": 18,
   "metadata": {
    "collapsed": false
   },
   "outputs": [
    {
     "name": "stdout",
     "output_type": "stream",
     "text": [
      "+----+--------------------+--------+----+------------+---------+--------+--------+--------+-----------+------------+\n",
      "|Rank|                Name|Platform|Year|       Genre|Publisher|NA_Sales|EU_Sales|JP_Sales|Other_Sales|Global_Sales|\n",
      "+----+--------------------+--------+----+------------+---------+--------+--------+--------+-----------+------------+\n",
      "|   1|          Wii Sports|     Wii|2006|      Sports| Nintendo|   41.49|   29.02|    3.77|       8.46|       82.74|\n",
      "|   2|   Super Mario Bros.|     NES|1985|    Platform| Nintendo|   29.08|    3.58|    6.81|       0.77|       40.24|\n",
      "|   3|      Mario Kart Wii|     Wii|2008|      Racing| Nintendo|   15.85|   12.88|    3.79|       3.31|       35.82|\n",
      "|   4|   Wii Sports Resort|     Wii|2009|      Sports| Nintendo|   15.75|   11.01|    3.28|       2.96|        33.0|\n",
      "|   5|Pokemon Red/Pokem...|      GB|1996|Role-Playing| Nintendo|   11.27|    8.89|   10.22|        1.0|       31.37|\n",
      "+----+--------------------+--------+----+------------+---------+--------+--------+--------+-----------+------------+\n",
      "only showing top 5 rows\n",
      "\n"
     ]
    }
   ],
   "source": [
    "\n",
    "from pyspark.sql import SQLContext\n",
    "sqlContext = SQLContext(sc)\n",
    "\n",
    "# @hidden_cell\n",
    "# This function is used to setup the access of Spark to your Object Storage. The definition contains your credentials.\n",
    "# You might want to remove those credentials before you share your notebook.\n",
    "def set_hadoop_config_with_credentials_1fdbb9571d5043db94db4dbded7cbfb1(name):\n",
    "    \"\"\"This function sets the Hadoop configuration so it is possible to\n",
    "    access data from Bluemix Object Storage using Spark\"\"\"\n",
    "\n",
    "    prefix = 'fs.swift.service.' + name\n",
    "    hconf = sc._jsc.hadoopConfiguration()\n",
    "    hconf.set(prefix + '.auth.url', 'https://identity.open.softlayer.com'+'/v3/auth/tokens')\n",
    "    hconf.set(prefix + '.auth.endpoint.prefix', 'endpoints')\n",
    "    hconf.set(prefix + '.tenant', '79361bf32ffa4e9aad00318f9a848e64')\n",
    "    hconf.set(prefix + '.username', '624ea908149b472d88ecb4692f51b5a6')\n",
    "    hconf.set(prefix + '.password', 'M-r0(^u&Tm!s7c7J')\n",
    "    hconf.setInt(prefix + '.http.port', 8080)\n",
    "    hconf.set(prefix + '.region', 'dallas')\n",
    "    hconf.setBoolean(prefix + '.public', False)\n",
    "\n",
    "# you can choose any name\n",
    "name = 'keystone'\n",
    "set_hadoop_config_with_credentials_1fdbb9571d5043db94db4dbded7cbfb1(name)\n",
    "\n",
    "df = sqlContext.read.format('com.databricks.spark.csv')\\\n",
    "  .options(header='true', inferschema='true')\\\n",
    "  .load(\"swift://Project1.\" + name + \"/vgsales.csv\")\n",
    "df.show(5)\n"
   ]
  },
  {
   "cell_type": "code",
   "execution_count": 2,
   "metadata": {
    "collapsed": false
   },
   "outputs": [
    {
     "data": {
      "text/html": [
       "<p> In order to find on which platform we shall create games to be able to sale it more, we tried to find the answer of </br> \" What is the most Successful Platform for us ?\"</p>"
      ],
      "text/plain": [
       "<IPython.core.display.HTML object>"
      ]
     },
     "metadata": {},
     "output_type": "display_data"
    }
   ],
   "source": [
    "%%HTML\n",
    "<p> In order to find on which platform we shall create games to be able to sale it more, we tried to find the answer of </br> \" What is the most Successful Platform for us ?\"</p>"
   ]
  },
  {
   "cell_type": "code",
   "execution_count": 19,
   "metadata": {
    "collapsed": false
   },
   "outputs": [
    {
     "name": "stdout",
     "output_type": "stream",
     "text": [
      "+--------+------------------+\n",
      "|Platform| sum(Global_Sales)|\n",
      "+--------+------------------+\n",
      "|     PS2|1255.6400000000078|\n",
      "|    X360| 979.9600000000025|\n",
      "|     PS3| 957.8400000000026|\n",
      "|     Wii| 926.7100000000017|\n",
      "|      DS| 822.4900000000005|\n",
      "+--------+------------------+\n",
      "only showing top 5 rows\n",
      "\n"
     ]
    }
   ],
   "source": [
    "# Most Successful platform\n",
    "df.select(df[\"Platform\"], df[\"Global_Sales\"]).groupBy(\"Platform\").sum().orderBy('sum(Global_Sales)', ascending=False).show(5)"
   ]
  },
  {
   "cell_type": "code",
   "execution_count": 3,
   "metadata": {
    "collapsed": false
   },
   "outputs": [
    {
     "data": {
      "text/html": [
       "<p> After finding the best platform, we focused to find the best genre for the choosen platform</p>"
      ],
      "text/plain": [
       "<IPython.core.display.HTML object>"
      ]
     },
     "metadata": {},
     "output_type": "display_data"
    }
   ],
   "source": [
    "%%HTML\n",
    "<p> After finding the best platform, we focused to find the best genre for the choosen platform</p>"
   ]
  },
  {
   "cell_type": "code",
   "execution_count": 21,
   "metadata": {
    "collapsed": false,
    "scrolled": false
   },
   "outputs": [
    {
     "name": "stdout",
     "output_type": "stream",
     "text": [
      "+----+--------------------+--------+----+------------+--------------------+--------+--------+--------+-----------+------------+\n",
      "|Rank|                Name|Platform|Year|       Genre|           Publisher|NA_Sales|EU_Sales|JP_Sales|Other_Sales|Global_Sales|\n",
      "+----+--------------------+--------+----+------------+--------------------+--------+--------+--------+-----------+------------+\n",
      "|  18|Grand Theft Auto:...|     PS2|2004|      Action|Take-Two Interactive|    9.43|     0.4|    0.41|      10.57|       20.81|\n",
      "|  25|Grand Theft Auto:...|     PS2|2002|      Action|Take-Two Interactive|    8.41|    5.49|    0.47|       1.78|       16.15|\n",
      "|  29|Gran Turismo 3: A...|     PS2|2001|      Racing|Sony Computer Ent...|    6.85|    5.09|    1.87|       1.16|       14.98|\n",
      "|  39|Grand Theft Auto III|     PS2|2001|      Action|Take-Two Interactive|    6.99|    4.51|     0.3|        1.3|        13.1|\n",
      "|  48|      Gran Turismo 4|     PS2|2004|      Racing|Sony Computer Ent...|    3.01|    0.01|     1.1|       7.53|       11.66|\n",
      "|  87|     Final Fantasy X|     PS2|2001|Role-Playing|Sony Computer Ent...|    2.91|    2.07|    2.73|       0.33|        8.05|\n",
      "| 105|Need for Speed Un...|     PS2|2003|      Racing|     Electronic Arts|    3.27|    2.83|    0.08|       1.02|         7.2|\n",
      "| 114|Need for Speed Un...|     PS2|2004|      Racing|     Electronic Arts|    2.71|    3.02|    0.08|       1.09|         6.9|\n",
      "| 115|Medal of Honor: F...|     PS2|2002|     Shooter|     Electronic Arts|    2.93|    2.75|    0.17|       0.99|        6.83|\n",
      "| 132|      Kingdom Hearts|     PS2|2002|Role-Playing|Sony Computer Ent...|    3.64|     1.2|    1.49|       0.07|         6.4|\n",
      "| 143|Metal Gear Solid ...|     PS2|2001|      Action|Konami Digital En...|    2.45|    2.01|    0.87|       0.72|        6.05|\n",
      "| 148|   Final Fantasy XII|     PS2|2006|Role-Playing|         Square Enix|    1.88|     0.0|    2.33|       1.74|        5.95|\n",
      "| 168|Crash Bandicoot: ...|     PS2|2001|    Platform|Universal Interac...|    2.07|    2.29|    0.24|       0.82|        5.42|\n",
      "| 175|   Final Fantasy X-2|     PS2|2003|Role-Playing|     Electronic Arts|    1.92|    1.08|    2.11|       0.17|        5.29|\n",
      "| 180|     Madden NFL 2004|     PS2| N/A|      Sports|     Electronic Arts|    4.26|    0.26|    0.01|       0.71|        5.23|\n",
      "| 181|Dragon Quest VIII...|     PS2|2004|Role-Playing|         Square Enix|    0.65|    0.75|    3.61|        0.2|        5.21|\n",
      "| 191|Medal of Honor: R...|     PS2|2003|     Shooter|     Electronic Arts|    1.98|    2.23|    0.13|        0.8|        5.13|\n",
      "| 196|      Guitar Hero II|     PS2|2006|        Misc|           RedOctane|    3.81|    0.63|     0.0|       0.68|        5.12|\n",
      "| 208|Guitar Hero III: ...|     PS2|2007|        Misc|          Activision|    3.49|    0.01|    0.01|       1.48|        4.98|\n",
      "| 212|       Madden NFL 06|     PS2|2005|      Sports|     Electronic Arts|    3.98|    0.26|    0.01|       0.66|        4.91|\n",
      "+----+--------------------+--------+----+------------+--------------------+--------+--------+--------+-----------+------------+\n",
      "only showing top 20 rows\n",
      "\n",
      "+---------+-----+\n",
      "|    Genre|count|\n",
      "+---------+-----+\n",
      "|   Sports|  400|\n",
      "|   Action|  348|\n",
      "|     Misc|  222|\n",
      "|   Racing|  216|\n",
      "|Adventure|  196|\n",
      "+---------+-----+\n",
      "only showing top 5 rows\n",
      "\n"
     ]
    }
   ],
   "source": [
    "# Best Genre of Best Platform\n",
    "best_game = df.where(df['Platform'] == \"PS2\").orderBy('Global_Sales', ascending=False)\n",
    "best_game.show()\n",
    "best_genre = best_game.select('Genre').groupBy(\"Genre\").count().orderBy('count', ascending=False).show(5)"
   ]
  },
  {
   "cell_type": "code",
   "execution_count": 4,
   "metadata": {
    "collapsed": false
   },
   "outputs": [
    {
     "data": {
      "text/html": [
       "<p> When we found the best platform and genre for this platform, we looked for the best publisher </br> \n",
       "and best publishers best genres in order to imitiate their strategies.</p>"
      ],
      "text/plain": [
       "<IPython.core.display.HTML object>"
      ]
     },
     "metadata": {},
     "output_type": "display_data"
    }
   ],
   "source": [
    "%%HTML\n",
    "<p> When we found the best platform and genre for this platform, we looked for the best publisher </br> \n",
    "and best publishers best genres in order to imitiate their strategies.</p>"
   ]
  },
  {
   "cell_type": "code",
   "execution_count": 22,
   "metadata": {
    "collapsed": false
   },
   "outputs": [
    {
     "name": "stdout",
     "output_type": "stream",
     "text": [
      "+--------------------+------------------+\n",
      "|           Publisher| sum(Global_Sales)|\n",
      "+--------------------+------------------+\n",
      "|            Nintendo|1786.5600000000013|\n",
      "|     Electronic Arts|1110.3199999999983|\n",
      "|          Activision| 727.4600000000003|\n",
      "|Sony Computer Ent...| 607.5000000000002|\n",
      "|             Ubisoft|474.71999999999986|\n",
      "+--------------------+------------------+\n",
      "only showing top 5 rows\n",
      "\n",
      "+----+--------------------+--------+----+------------+---------+--------+--------+--------+-----------+------------+\n",
      "|Rank|                Name|Platform|Year|       Genre|Publisher|NA_Sales|EU_Sales|JP_Sales|Other_Sales|Global_Sales|\n",
      "+----+--------------------+--------+----+------------+---------+--------+--------+--------+-----------+------------+\n",
      "|   1|          Wii Sports|     Wii|2006|      Sports| Nintendo|   41.49|   29.02|    3.77|       8.46|       82.74|\n",
      "|   2|   Super Mario Bros.|     NES|1985|    Platform| Nintendo|   29.08|    3.58|    6.81|       0.77|       40.24|\n",
      "|   3|      Mario Kart Wii|     Wii|2008|      Racing| Nintendo|   15.85|   12.88|    3.79|       3.31|       35.82|\n",
      "|   4|   Wii Sports Resort|     Wii|2009|      Sports| Nintendo|   15.75|   11.01|    3.28|       2.96|        33.0|\n",
      "|   5|Pokemon Red/Pokem...|      GB|1996|Role-Playing| Nintendo|   11.27|    8.89|   10.22|        1.0|       31.37|\n",
      "|   6|              Tetris|      GB|1989|      Puzzle| Nintendo|    23.2|    2.26|    4.22|       0.58|       30.26|\n",
      "|   7|New Super Mario B...|      DS|2006|    Platform| Nintendo|   11.38|    9.23|     6.5|        2.9|       30.01|\n",
      "|   8|            Wii Play|     Wii|2006|        Misc| Nintendo|   14.03|     9.2|    2.93|       2.85|       29.02|\n",
      "|   9|New Super Mario B...|     Wii|2009|    Platform| Nintendo|   14.59|    7.06|     4.7|       2.26|       28.62|\n",
      "|  10|           Duck Hunt|     NES|1984|     Shooter| Nintendo|   26.93|    0.63|    0.28|       0.47|       28.31|\n",
      "|  11|          Nintendogs|      DS|2005|  Simulation| Nintendo|    9.07|    11.0|    1.93|       2.75|       24.76|\n",
      "|  12|       Mario Kart DS|      DS|2005|      Racing| Nintendo|    9.81|    7.57|    4.13|       1.92|       23.42|\n",
      "|  13|Pokemon Gold/Poke...|      GB|1999|Role-Playing| Nintendo|     9.0|    6.18|     7.2|       0.71|        23.1|\n",
      "|  14|             Wii Fit|     Wii|2007|      Sports| Nintendo|    8.94|    8.03|     3.6|       2.15|       22.72|\n",
      "|  15|        Wii Fit Plus|     Wii|2009|      Sports| Nintendo|    9.09|    8.59|    2.53|       1.79|        22.0|\n",
      "|  19|   Super Mario World|    SNES|1990|    Platform| Nintendo|   12.78|    3.75|    3.54|       0.55|       20.61|\n",
      "|  20|Brain Age: Train ...|      DS|2005|        Misc| Nintendo|    4.75|    9.26|    4.16|       2.05|       20.22|\n",
      "|  21|Pokemon Diamond/P...|      DS|2006|Role-Playing| Nintendo|    6.42|    4.52|    6.04|       1.37|       18.36|\n",
      "|  22|    Super Mario Land|      GB|1989|    Platform| Nintendo|   10.83|    2.71|    4.18|       0.42|       18.14|\n",
      "|  23| Super Mario Bros. 3|     NES|1988|    Platform| Nintendo|    9.54|    3.44|    3.84|       0.46|       17.28|\n",
      "+----+--------------------+--------+----+------------+---------+--------+--------+--------+-----------+------------+\n",
      "only showing top 20 rows\n",
      "\n",
      "+------------+-----+\n",
      "|       Genre|count|\n",
      "+------------+-----+\n",
      "|    Platform|  112|\n",
      "|Role-Playing|  106|\n",
      "|        Misc|  100|\n",
      "|      Action|   79|\n",
      "|      Puzzle|   74|\n",
      "+------------+-----+\n",
      "only showing top 5 rows\n",
      "\n"
     ]
    }
   ],
   "source": [
    "#Question 7(a) - Best publisher\n",
    "df.select(df[\"Publisher\"], df[\"Global_Sales\"]).groupBy(\"Publisher\").sum().orderBy('sum(Global_Sales)', ascending=False).show(5)\n",
    "\n",
    "#Question 7(b) - Best publisher's genre\n",
    "pubs_best_game = df.where(df['Publisher'] == \"Nintendo\").orderBy('Global_Sales', ascending=False)\n",
    "pubs_best_game.show()\n",
    "best_genre = pubs_best_game.select('Genre').groupBy(\"Genre\").count().orderBy('count', ascending=False).show(5)"
   ]
  },
  {
   "cell_type": "code",
   "execution_count": 7,
   "metadata": {
    "collapsed": false
   },
   "outputs": [
    {
     "data": {
      "text/html": [
       "<p>Some more additional information about the market </br> <a font = \"bold\">--- Year with best sales ---</a></p>"
      ],
      "text/plain": [
       "<IPython.core.display.HTML object>"
      ]
     },
     "metadata": {},
     "output_type": "display_data"
    }
   ],
   "source": [
    "%%HTML\n",
    "<p>Some more additional information about the market </br> <a font = \"bold\">--- Year with best sales ---</a></p>"
   ]
  },
  {
   "cell_type": "code",
   "execution_count": 23,
   "metadata": {
    "collapsed": false
   },
   "outputs": [
    {
     "name": "stdout",
     "output_type": "stream",
     "text": [
      "+----+-----------------+\n",
      "|Year|sum(Global_Sales)|\n",
      "+----+-----------------+\n",
      "|2008|678.9000000000023|\n",
      "|2009|667.3000000000015|\n",
      "|2007|611.1300000000006|\n",
      "|2010|600.4500000000019|\n",
      "|2006|521.0400000000002|\n",
      "+----+-----------------+\n",
      "only showing top 5 rows\n",
      "\n"
     ]
    }
   ],
   "source": [
    "# Year with best sales\n",
    "df.select(df[\"Year\"], df[\"Global_Sales\"]).groupBy(\"Year\").sum().orderBy('sum(Global_Sales)', ascending=False).show(5)"
   ]
  },
  {
   "cell_type": "code",
   "execution_count": 8,
   "metadata": {
    "collapsed": false
   },
   "outputs": [
    {
     "data": {
      "text/html": [
       "<p><a font = \"bold\">--- Which genre has how many games ---</a></p>"
      ],
      "text/plain": [
       "<IPython.core.display.HTML object>"
      ]
     },
     "metadata": {},
     "output_type": "display_data"
    }
   ],
   "source": [
    "%%HTML\n",
    "<p><a font = \"bold\">--- Which genre has how many games ---</a></p>"
   ]
  },
  {
   "cell_type": "code",
   "execution_count": 25,
   "metadata": {
    "collapsed": false
   },
   "outputs": [
    {
     "name": "stdout",
     "output_type": "stream",
     "text": [
      "{'Role-Playing': [1488], 'Puzzle': [582], 'Shooter': [1310], 'Misc': [1739], 'Fighting': [848], 'Sports': [2346], 'Platform': [886], 'Adventure': [1286], 'Action': [3316], 'Simulation': [867], 'Strategy': [681], 'Racing': [1249]}\n"
     ]
    }
   ],
   "source": [
    "# Which genre has how many games\n",
    "\n",
    "list_of_genres = [\"Action\",\"Role-Playing\",\"Puzzle\",\"Shooter\",\"Misc\",\"Fighting\",\"Sports\",\\\n",
    "                  \"Platform\",\"Strategy\",\"Adventure\",\"Simulation\",\"Racing\"]\n",
    "dict_of_genres = {}\n",
    "\n",
    "\n",
    "df = df.withColumn(\"Global_Sales\", df[\"Global_Sales\"].cast(\"float\"))\n",
    "df = df.withColumn(\"NA_Sales\", df[\"NA_Sales\"].cast(\"float\"))\n",
    "df = df.withColumn(\"JP_Sales\", df[\"JP_Sales\"].cast(\"float\"))\n",
    "df = df.withColumn(\"EU_Sales\", df[\"EU_Sales\"].cast(\"float\"))\n",
    "df = df.withColumn(\"Other_Sales\", df[\"Other_Sales\"].cast(\"float\"))\n",
    "df = df.withColumn(\"Rank\", df[\"Rank\"].cast(\"integer\"))\n",
    "\n",
    "for i in list_of_genres:\n",
    "    p = [df.filter(df[\"Genre\"]==i).count()]\n",
    "    dict_of_genres.setdefault(i, p)\n",
    "print dict_of_genres"
   ]
  },
  {
   "cell_type": "code",
   "execution_count": 9,
   "metadata": {
    "collapsed": false
   },
   "outputs": [
    {
     "data": {
      "text/html": [
       "<p><a font = \"bold\">--- Which Genre is the best to make money ---</a></p>"
      ],
      "text/plain": [
       "<IPython.core.display.HTML object>"
      ]
     },
     "metadata": {},
     "output_type": "display_data"
    }
   ],
   "source": [
    "%%HTML\n",
    "<p><a font = \"bold\">--- Which Genre is the best to make money ---</a></p>"
   ]
  },
  {
   "cell_type": "code",
   "execution_count": 26,
   "metadata": {
    "collapsed": false
   },
   "outputs": [
    {
     "name": "stdout",
     "output_type": "stream",
     "text": [
      "+------------+------------------+\n",
      "|       Genre| sum(Global_Sales)|\n",
      "+------------+------------------+\n",
      "|      Racing| 732.0399981327355|\n",
      "|    Strategy|175.11999987624586|\n",
      "|    Platform| 831.3700044620782|\n",
      "|Role-Playing| 927.3700027912855|\n",
      "|      Sports|1330.9299955032766|\n",
      "+------------+------------------+\n",
      "only showing top 5 rows\n",
      "\n"
     ]
    }
   ],
   "source": [
    "# Which Genre is the best to make money\n",
    "dict_of_genres2 = dict_of_genres\n",
    "\n",
    "df_gb = df.select(\"Genre\", \"Global_Sales\").groupBy(\"Genre\").sum(\"Global_Sales\").show(5)"
   ]
  }
 ],
 "metadata": {
  "kernelspec": {
   "display_name": "Python 2 with Spark 1.6",
   "language": "python",
   "name": "python2"
  },
  "language_info": {
   "codemirror_mode": {
    "name": "ipython",
    "version": 2
   },
   "file_extension": ".py",
   "mimetype": "text/x-python",
   "name": "python",
   "nbconvert_exporter": "python",
   "pygments_lexer": "ipython2",
   "version": "2.7.11"
  }
 },
 "nbformat": 4,
 "nbformat_minor": 0
}